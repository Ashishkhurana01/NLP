{
 "cells": [
  {
   "cell_type": "code",
   "execution_count": 1,
   "metadata": {},
   "outputs": [
    {
     "name": "stdout",
     "output_type": "stream",
     "text": [
      "NLP stuff\n"
     ]
    }
   ],
   "source": [
    "print(\"NLP stuff\")"
   ]
  },
  {
   "cell_type": "code",
   "execution_count": 2,
   "metadata": {},
   "outputs": [
    {
     "name": "stdout",
     "output_type": "stream",
     "text": [
      "new commit to Git\n"
     ]
    }
   ],
   "source": [
    "print (\"new commit to Git\")"
   ]
  },
  {
   "cell_type": "code",
   "execution_count": 3,
   "metadata": {
    "scrolled": true
   },
   "outputs": [
    {
     "name": "stdout",
     "output_type": "stream",
     "text": [
      "Third commit\n"
     ]
    }
   ],
   "source": [
    "print(\"Third commit\")"
   ]
  },
  {
   "cell_type": "code",
   "execution_count": 10,
   "metadata": {},
   "outputs": [
    {
     "name": "stdout",
     "output_type": "stream",
     "text": [
      "Fourth commit\n"
     ]
    }
   ],
   "source": [
    "print (\"Fourth commit\")"
   ]
  },
  {
   "cell_type": "code",
   "execution_count": 4,
   "metadata": {},
   "outputs": [
    {
     "name": "stderr",
     "output_type": "stream",
     "text": [
      "'pwd' is not recognized as an internal or external command,\n",
      "operable program or batch file.\n"
     ]
    }
   ],
   "source": [
    "! pwd"
   ]
  },
  {
   "cell_type": "code",
   "execution_count": 5,
   "metadata": {},
   "outputs": [
    {
     "name": "stdout",
     "output_type": "stream",
     "text": [
      "Microsoft Windows [Version 10.0.18362.207]\r\n",
      "(c) 2019 Microsoft Corporation. All rights reserved.\r\n",
      "\r\n",
      "(nlp_course) C:\\Users\\khura\\Documents\\Ashish\\Career related\\Git\\NLP>! pwd\n",
      "\r\n",
      "(nlp_course) C:\\Users\\khura\\Documents\\Ashish\\Career related\\Git\\NLP>"
     ]
    },
    {
     "name": "stderr",
     "output_type": "stream",
     "text": [
      "'!' is not recognized as an internal or external command,\r\n",
      "operable program or batch file.\r\n"
     ]
    }
   ],
   "source": [
    "%%cmd\n",
    "! pwd"
   ]
  },
  {
   "cell_type": "code",
   "execution_count": 6,
   "metadata": {},
   "outputs": [
    {
     "name": "stdout",
     "output_type": "stream",
     "text": [
      "Microsoft Windows [Version 10.0.18362.207]\r\n",
      "(c) 2019 Microsoft Corporation. All rights reserved.\r\n",
      "\r\n",
      "(nlp_course) C:\\Users\\khura\\Documents\\Ashish\\Career related\\Git\\NLP>pwd\n",
      "\r\n",
      "(nlp_course) C:\\Users\\khura\\Documents\\Ashish\\Career related\\Git\\NLP>"
     ]
    },
    {
     "name": "stderr",
     "output_type": "stream",
     "text": [
      "'pwd' is not recognized as an internal or external command,\r\n",
      "operable program or batch file.\r\n"
     ]
    }
   ],
   "source": [
    "%%cmd\n",
    "pwd"
   ]
  },
  {
   "cell_type": "code",
   "execution_count": 11,
   "metadata": {},
   "outputs": [
    {
     "name": "stderr",
     "output_type": "stream",
     "text": [
      "fatal: pathspec 'NLP.ipnyb' did not match any files\n"
     ]
    },
    {
     "name": "stdout",
     "output_type": "stream",
     "text": [
      "On branch main\n",
      "Your branch is up to date with 'origin/main'.\n",
      "\n",
      "Changes not staged for commit:\n",
      "  (use \"git add <file>...\" to update what will be committed)\n",
      "  (use \"git restore <file>...\" to discard changes in working directory)\n",
      "\tmodified:   NLP.ipynb\n",
      "\tmodified:   commit_message.txt\n",
      "\n",
      "no changes added to commit (use \"git add\" and/or \"git commit -a\")\n"
     ]
    },
    {
     "name": "stderr",
     "output_type": "stream",
     "text": [
      "Everything up-to-date\n"
     ]
    }
   ],
   "source": [
    "import datetime\n",
    "now = datetime.datetime.now()\n",
    "commit_message = \"Last run on \" + str(now)\n",
    "\n",
    "#! cd \"/Users/vincentviers/GIT/automatic-GH-from-Jupyter\"\n",
    "! echo $commit_message > commit_message.txt\n",
    "! git add NLP.ipnyb\n",
    "! git commit -F commit_message.txt\n",
    "! git push origin"
   ]
  },
  {
   "cell_type": "code",
   "execution_count": null,
   "metadata": {},
   "outputs": [],
   "source": []
  }
 ],
 "metadata": {
  "kernelspec": {
   "display_name": "Python 3",
   "language": "python",
   "name": "python3"
  },
  "language_info": {
   "codemirror_mode": {
    "name": "ipython",
    "version": 3
   },
   "file_extension": ".py",
   "mimetype": "text/x-python",
   "name": "python",
   "nbconvert_exporter": "python",
   "pygments_lexer": "ipython3",
   "version": "3.7.9"
  }
 },
 "nbformat": 4,
 "nbformat_minor": 4
}
